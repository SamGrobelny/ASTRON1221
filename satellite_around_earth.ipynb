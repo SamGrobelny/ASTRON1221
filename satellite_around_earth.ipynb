{
  "nbformat": 4,
  "nbformat_minor": 0,
  "metadata": {
    "colab": {
      "provenance": [],
      "authorship_tag": "ABX9TyO+0bp7ymDgvgo8S0FOrpwZ",
      "include_colab_link": true
    },
    "kernelspec": {
      "name": "python3",
      "display_name": "Python 3"
    },
    "language_info": {
      "name": "python"
    }
  },
  "cells": [
    {
      "cell_type": "markdown",
      "metadata": {
        "id": "view-in-github",
        "colab_type": "text"
      },
      "source": [
        "<a href=\"https://colab.research.google.com/github/SamGrobelny/ASTRON1221/blob/main/satellite_around_earth.ipynb\" target=\"_parent\"><img src=\"https://colab.research.google.com/assets/colab-badge.svg\" alt=\"Open In Colab\"/></a>"
      ]
    },
    {
      "cell_type": "code",
      "execution_count": null,
      "metadata": {
        "id": "owVvsSlCFRpv"
      },
      "outputs": [],
      "source": [
        "import numpy as np # import numpy package for math\n",
        "import astropy.constants as const # import astropy constants for using astronomical constants\n",
        "import astropy.units as u # import astropy units for using astronomical units"
      ]
    },
    {
      "cell_type": "code",
      "source": [
        "# redfine M as mass of earth\n",
        "# redefine R as orbital distance between earth and satellite\n",
        "\n",
        "# takes in M as the mass of the central unit\n",
        "# takes in R and distance between inner and outer element\n",
        "def orbital_velocity(M, R):\n",
        "    G = const.G # define G as the gravitational constant\n",
        "    V = np.sqrt(G * M / R) # define V as the square root of M and R time the gravitational constant\n",
        "    return V # returns the orbital velocity of the outer element\n",
        "\n",
        "M = 1 * u.earthMass # define M as the mass of the earth\n",
        "R = 1 * u.earthRad # define R as one au\n",
        "V = orbital_velocity(M, R)\n",
        "print(f\"The orbital velocity of a satellite around the earth is {V.to(u.m/u.s)}\")"
      ],
      "metadata": {
        "id": "N2invGwY_mLD",
        "colab": {
          "base_uri": "https://localhost:8080/"
        },
        "outputId": "46c2fe45-a9ba-4350-ddbe-47431fb7975f"
      },
      "execution_count": null,
      "outputs": [
        {
          "output_type": "stream",
          "name": "stdout",
          "text": [
            "The orbital velocity of a satellite around the earth is 7905.388234385281 m / s\n"
          ]
        }
      ]
    }
  ]
}