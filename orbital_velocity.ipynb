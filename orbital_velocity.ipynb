{
  "nbformat": 4,
  "nbformat_minor": 0,
  "metadata": {
    "colab": {
      "provenance": [],
      "authorship_tag": "ABX9TyPlAwL5yH/qrB4Xdn4vCbMM",
      "include_colab_link": true
    },
    "kernelspec": {
      "name": "python3",
      "display_name": "Python 3"
    },
    "language_info": {
      "name": "python"
    }
  },
  "cells": [
    {
      "cell_type": "markdown",
      "metadata": {
        "id": "view-in-github",
        "colab_type": "text"
      },
      "source": [
        "<a href=\"https://colab.research.google.com/github/SamGrobelny/ASTRON1221/blob/main/orbital_velocity.ipynb\" target=\"_parent\"><img src=\"https://colab.research.google.com/assets/colab-badge.svg\" alt=\"Open In Colab\"/></a>"
      ]
    },
    {
      "cell_type": "markdown",
      "source": [
        "$V = \\sqrt\\frac{GM}{R}$, this is the equation that we use to calculate orbital velocity"
      ],
      "metadata": {
        "id": "3Xc3zFDY4Gkx"
      }
    },
    {
      "cell_type": "code",
      "execution_count": null,
      "metadata": {
        "id": "kKHt-nn0zdtR"
      },
      "outputs": [],
      "source": [
        "import astropy.constants as const # lib for astronomical constants\n",
        "import astropy.units as u # lib for astronomical units\n",
        "import numpy as np # import numpy to use advanced math functions"
      ]
    },
    {
      "cell_type": "code",
      "source": [
        "M = 1 * u.solMass # mass of the sun\n",
        "print(M.to(u.kg)) # print out M in unit of kilograms"
      ],
      "metadata": {
        "colab": {
          "base_uri": "https://localhost:8080/"
        },
        "id": "D0Rl3MIB5skM",
        "outputId": "de3c2d99-0e6d-4d76-dac0-bf2e4ce38677"
      },
      "execution_count": null,
      "outputs": [
        {
          "output_type": "stream",
          "name": "stdout",
          "text": [
            "1.988409870698051e+30 kg\n"
          ]
        }
      ]
    },
    {
      "cell_type": "code",
      "source": [
        "R = 1 * u.au # orbital distance between earth and sun\n",
        "print(R.to(u.km)) # print out R in unit of kilometers"
      ],
      "metadata": {
        "colab": {
          "base_uri": "https://localhost:8080/"
        },
        "id": "pGPBi2Gb7Ove",
        "outputId": "31da533a-eb34-4ed0-f985-348162577e80"
      },
      "execution_count": null,
      "outputs": [
        {
          "output_type": "stream",
          "name": "stdout",
          "text": [
            "149597870.7 km\n"
          ]
        }
      ]
    },
    {
      "cell_type": "code",
      "source": [
        "G = const.G # gravitational constant\n",
        "print(G.si) # print out G in S.I. unit"
      ],
      "metadata": {
        "colab": {
          "base_uri": "https://localhost:8080/"
        },
        "id": "0JFiH55p8ZZS",
        "outputId": "549530af-b823-4674-e287-8d2c21a07b42"
      },
      "execution_count": null,
      "outputs": [
        {
          "output_type": "stream",
          "name": "stdout",
          "text": [
            "  Name   = Gravitational constant\n",
            "  Value  = 6.6743e-11\n",
            "  Uncertainty  = 1.5e-15\n",
            "  Unit  = m3 / (kg s2)\n",
            "  Reference = CODATA 2018\n"
          ]
        }
      ]
    },
    {
      "cell_type": "code",
      "source": [
        "V = np.sqrt(G * M / R) # calculate orbital velocity of the earth based on the equation from the beginning\n",
        "print(V.to(u.km/u.s)) # print orbital velocity of the earth in km/s"
      ],
      "metadata": {
        "colab": {
          "base_uri": "https://localhost:8080/"
        },
        "id": "WKKTFItX7Znk",
        "outputId": "88f338b4-aa9c-4c5d-f761-74cedd280e3c"
      },
      "execution_count": null,
      "outputs": [
        {
          "output_type": "stream",
          "name": "stdout",
          "text": [
            "29.784691829676934 km / s\n"
          ]
        }
      ]
    },
    {
      "cell_type": "code",
      "source": [
        "RJ = 5.2 * u.au # orbital distance between jupiter and sun\n",
        "print(RJ.to(u.km)) # print out the orbital distance between the sun and jupiter in kilometers"
      ],
      "metadata": {
        "colab": {
          "base_uri": "https://localhost:8080/"
        },
        "id": "TJNW2Rjw9wrH",
        "outputId": "60afc2ff-8db1-45e6-d103-b20eaa615f31"
      },
      "execution_count": null,
      "outputs": [
        {
          "output_type": "stream",
          "name": "stdout",
          "text": [
            "777908927.64 km\n"
          ]
        }
      ]
    },
    {
      "cell_type": "code",
      "source": [
        "VJ = np.sqrt(G * M / RJ) # calculate orbital velocity of jupiter based on the beginning equation\n",
        "print(VJ.to(u.km/u.s)) # print orbital velocity of jupiter in km/s"
      ],
      "metadata": {
        "colab": {
          "base_uri": "https://localhost:8080/"
        },
        "id": "iDzvtaSS-GEq",
        "outputId": "82ed9b3f-e2d3-4769-e3a2-93545d21f440"
      },
      "execution_count": null,
      "outputs": [
        {
          "output_type": "stream",
          "name": "stdout",
          "text": [
            "13.061451410903354 km / s\n"
          ]
        }
      ]
    }
  ]
}