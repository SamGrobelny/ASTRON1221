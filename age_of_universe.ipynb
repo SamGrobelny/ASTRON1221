{
  "nbformat": 4,
  "nbformat_minor": 0,
  "metadata": {
    "colab": {
      "provenance": [],
      "authorship_tag": "ABX9TyMTlnVfHm9dgWmsvtq5oRIk",
      "include_colab_link": true
    },
    "kernelspec": {
      "name": "python3",
      "display_name": "Python 3"
    },
    "language_info": {
      "name": "python"
    }
  },
  "cells": [
    {
      "cell_type": "markdown",
      "metadata": {
        "id": "view-in-github",
        "colab_type": "text"
      },
      "source": [
        "<a href=\"https://colab.research.google.com/github/SamGrobelny/ASTRON1221/blob/main/age_of_universe.ipynb\" target=\"_parent\"><img src=\"https://colab.research.google.com/assets/colab-badge.svg\" alt=\"Open In Colab\"/></a>"
      ]
    },
    {
      "cell_type": "markdown",
      "source": [
        "$d = v * t$\\\n",
        "hubble law: $v=Hd$\\\n",
        "Age of universe: $t_0=d/v=d/{Hd}=1/H$\\\n",
        "$H= 70 km/s/Mpc$\\\n",
        "$1 Mpc = 3e19 km$"
      ],
      "metadata": {
        "id": "vJFMIql_9g5T"
      }
    },
    {
      "cell_type": "code",
      "execution_count": null,
      "metadata": {
        "id": "ohg2U1gIBKAs"
      },
      "outputs": [],
      "source": [
        "import astropy.units as u # import package for astronomical units\n",
        "import astropy.constants as c # import package for astronomical constants"
      ]
    },
    {
      "cell_type": "code",
      "source": [
        "D = 1 * u.Mpc # set D as a Mpc\n",
        "H = 70 * u.km / u.s # set H as the hubble constant (70 km/s/Mpc)\n",
        "\n",
        "T = D / H # calculate t0 ( age of the universe ) via doing D / H or 1 / H\n",
        "print(T.to(u.Gyr)) # print the age of the universe in Gyr"
      ],
      "metadata": {
        "colab": {
          "base_uri": "https://localhost:8080/"
        },
        "id": "xn3ERnGqDBsw",
        "outputId": "9831f863-8da1-4d8d-834d-333a7a274c40"
      },
      "execution_count": null,
      "outputs": [
        {
          "output_type": "stream",
          "name": "stdout",
          "text": [
            "13.968460309725558 Gyr\n"
          ]
        }
      ]
    }
  ]
}