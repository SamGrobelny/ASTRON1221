{
  "nbformat": 4,
  "nbformat_minor": 0,
  "metadata": {
    "colab": {
      "provenance": [],
      "authorship_tag": "ABX9TyN8eGTNUU8NK2xr4dnMqobN",
      "include_colab_link": true
    },
    "kernelspec": {
      "name": "python3",
      "display_name": "Python 3"
    },
    "language_info": {
      "name": "python"
    }
  },
  "cells": [
    {
      "cell_type": "markdown",
      "metadata": {
        "id": "view-in-github",
        "colab_type": "text"
      },
      "source": [
        "<a href=\"https://colab.research.google.com/github/SamGrobelny/ASTRON1221/blob/main/sch_radius.ipynb\" target=\"_parent\"><img src=\"https://colab.research.google.com/assets/colab-badge.svg\" alt=\"Open In Colab\"/></a>"
      ]
    },
    {
      "cell_type": "code",
      "execution_count": null,
      "metadata": {
        "id": "owVvsSlCFRpv"
      },
      "outputs": [],
      "source": [
        "import numpy as np # import numpy package for math\n",
        "import astropy.constants as const # import astropy constants for using astronomical constants\n",
        "import astropy.units as u # import astropy units for using astronomical units"
      ]
    },
    {
      "cell_type": "code",
      "execution_count": null,
      "metadata": {
        "colab": {
          "base_uri": "https://localhost:8080/"
        },
        "id": "1oYuhVf2NaLQ",
        "outputId": "b81b8a20-6ac4-4606-cfee-f29ae54807ff"
      },
      "outputs": [
        {
          "output_type": "stream",
          "name": "stdout",
          "text": [
            "2.95325007610025 km\n"
          ]
        }
      ],
      "source": [
        "def sch_rad(M):\n",
        "  '''takes in the mass of an object and returns the\n",
        "  schwartzchild radius of that object in kilometers\n",
        "  '''\n",
        "  G = const.G # define G as the gravitational constant\n",
        "  c = const.c # define c as the speed of light\n",
        "\n",
        "  return (2 * G * M / c**2).to(u.km) # return the schwartzchild radius in kilometers\n",
        "\n",
        "M = 1 * u.solMass # define m of solar mass black hole\n",
        "S = sch_rad(M) # define S as the schwartzchild radius of the black hole\n",
        "# print schwartzchild radius\n",
        "print(S.to(u.km))"
      ]
    }
  ]
}